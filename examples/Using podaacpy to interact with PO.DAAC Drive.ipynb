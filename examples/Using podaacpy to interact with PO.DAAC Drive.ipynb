{
 "cells": [
  {
   "cell_type": "code",
   "execution_count": null,
   "metadata": {},
   "outputs": [],
   "source": [
    "# Licensed under the Apache License, Version 2.0 (the \"License\");\n",
    "# you may not use this file except in compliance with the License.\n",
    "# You may obtain a copy of the License at\n",
    "#\n",
    "#      http://www.apache.org/licenses/LICENSE-2.0\n",
    "#\n",
    "# Unless required by applicable law or agreed to in writing, software\n",
    "# distributed under the License is distributed on an \"AS IS\" BASIS,\n",
    "# WITHOUT WARRANTIES OR CONDITIONS OF ANY KIND, either express or implied.\n",
    "# See the License for the specific language governing permissions and\n",
    "# limitations under the License."
   ]
  },
  {
   "cell_type": "code",
   "execution_count": null,
   "metadata": {},
   "outputs": [],
   "source": [
    "# In this example we replicate the following workflow \n",
    "# * Define temporal and spatial characteristics of a given event \n",
    "#     e.g. Hurricane Florence which was a very recent major hurricane \n",
    "#     to impact Southeastern US\n",
    "# * Search for all available (whole orbit) granules for that event and \n",
    "#    download them from PO.DAAC Drive to the local machine\n",
    "# * View files in the Panoply data viewer\n",
    "#    more information on Panoply can be found at\n",
    "#    https://www.giss.nasa.gov/tools/panoply/\n",
    "# * Streamline the above data acquisition task using PO.DAAC's\n",
    "#    Level 2 Subsetting software to download a regional data subset for the\n",
    "#    event at the given space and time.\n",
    "# * Finally, view the subsetted granule again in Panoply\n",
    "\n",
    "# In this example we has chosen the MetOp-A ASCAT Level 2 Ocean \n",
    "# Surface Wind Vectors Optimized for Coastal Ocean collection as our \n",
    "# subject matter.\n",
    "# This dataset contains operational near-real-time Level 2 coastal \n",
    "# ocean surface wind vector retrievals from the Advanced Scatterometer \n",
    "# (ASCAT) on MetOp-A at 12.5 km sampling resolution \n",
    "# (note: the effective resolution is 25 km). It is a product of \n",
    "# the European Organization for the Exploitation of Meteorological \n",
    "# Satellites (EUMETSAT) Ocean and Sea Ice Satellite Application \n",
    "# Facility (OSI SAF) provided through the Royal Netherlands \n",
    "# Meteorological Institute (KNMI)\n",
    "\n",
    "# More information on the MetOp mission specification can \n",
    "# be found at https://podaac.jpl.nasa.gov/MetOp"
   ]
  },
  {
   "cell_type": "code",
   "execution_count": null,
   "metadata": {},
   "outputs": [],
   "source": [
    "from IPython.display import Image\n",
    "Image(filename='ASCAT_geometry.jpg') "
   ]
  },
  {
   "cell_type": "code",
   "execution_count": null,
   "metadata": {},
   "outputs": [],
   "source": [
    "#First lets import the libraries we require\n",
    "from pprint import pprint\n",
    "from podaac import podaac as podaac\n",
    "from podaac import podaac_utils as utils\n",
    "from podaac import drive as drive"
   ]
  },
  {
   "cell_type": "code",
   "execution_count": null,
   "metadata": {},
   "outputs": [],
   "source": [
    "#Then we can create instances of the classes we will use\n",
    "p = podaac.Podaac()\n",
    "u = utils.PodaacUtils()\n",
    "d = drive.Drive('podaac.ini', None, None)"
   ]
  },
  {
   "cell_type": "code",
   "execution_count": null,
   "metadata": {},
   "outputs": [],
   "source": [
    "# Let's discover PO.DAAC Wind data relating to Hurricane Florence, which\n",
    "#  was a very recent major hurricane to impact Southeastern US\n",
    "#    https://en.wikipedia.org/wiki/Hurricane_Florence\n",
    "# Using specific parameters to confine the discovery space, we opt for the full \n",
    "# metadata record in atom format\n",
    "ds_result = p.dataset_search(keyword='ASCAT', \n",
    "                             start_time='2018-09-12T00:00:01Z', \n",
    "                             end_time='2018-09-14T11:59:59Z', \n",
    "                             short_name='ASCATA-L2-Coastal', \n",
    "                             process_level='2', \n",
    "                             bbox='-81,28,-67,40', \n",
    "                             pretty='True', \n",
    "                             _format='atom', \n",
    "                             full='True')\n",
    "print(ds_result)"
   ]
  },
  {
   "cell_type": "code",
   "execution_count": null,
   "metadata": {},
   "outputs": [],
   "source": [
    "#Because we requested the Full response, we can actually extract the \n",
    "# PO.DAAC Drive URL for all granules contained within this dataset.\n",
    "search_str = 'https://podaac-tools.jpl.nasa.gov/drive/files/'\n",
    "drive_path = [ str(i) for i in ds_result.strip().split() if search_str in i ][0]\n",
    "print(drive_path[5:])"
   ]
  },
  {
   "cell_type": "code",
   "execution_count": null,
   "metadata": {},
   "outputs": [],
   "source": [
    "#Next, lets search for Granules of interest relating to the above discovery operation\n",
    "#Lets execute a search for specific granules from the following dataset\n",
    "# MetOp-A ASCAT Level 2 Ocean Surface Wind Vectors Optimized for Coastal Ocean\n",
    "# https://podaac.jpl.nasa.gov/dataset/ASCATA-L2-Coastal\n",
    "# ...based upon temporal (start and end) and spatial contraints. \n",
    "result = p.granule_search(dataset_id='PODAAC-ASOP2-12C01',\n",
    "                          start_time='2018-09-12T00:00:01Z',\n",
    "                          end_time='2018-09-14T11:59:59Z',\n",
    "                          bbox='-81,28,-67,40',\n",
    "                          sort_by='timeAsc',\n",
    "                          items_per_page='400',\n",
    "                          _format='atom',\n",
    "                          pretty='True')\n",
    "#print(result)\n",
    "searchStr = 'totalResults'\n",
    "numResultsStr = [ str(i) for i in result.strip().split() if searchStr in i ]\n",
    "print(numResultsStr)"
   ]
  },
  {
   "cell_type": "code",
   "execution_count": null,
   "metadata": {},
   "outputs": [],
   "source": [
    "#Here's the actual granule names\n",
    "pprint(u.mine_granules_from_granule_search(granule_search_response=str(result)))"
   ]
  },
  {
   "cell_type": "code",
   "execution_count": null,
   "metadata": {},
   "outputs": [],
   "source": [
    "#Now we simply need to reproduce the Drive URL's for the above granules.\n",
    "granules = d.mine_drive_urls_from_granule_search(granule_search_response=(str(result)))\n",
    "pprint(granules)"
   ]
  },
  {
   "cell_type": "code",
   "execution_count": null,
   "metadata": {},
   "outputs": [],
   "source": [
    "#Let's retrieve these granules from PO.DAAC Drive.\n",
    "#Note that the download_granules function actually decompresses\n",
    "#and removes the compressed archive files locally for us.\n",
    "d.download_granules(granule_collection=granules, path='./dummy')"
   ]
  },
  {
   "cell_type": "code",
   "execution_count": null,
   "metadata": {},
   "outputs": [],
   "source": [
    "#Let's merge the files together\n",
    "import glob, os, subprocess, shlex\n",
    "nc_files = []\n",
    "for file in glob.glob(\"*.nc\"):\n",
    "    nc_files.append(os.path.abspath(file))\n",
    "str_nc_files = ' '.join(nc_files)\n",
    "# Let's open the granules within Panoply - https://www.giss.nasa.gov/tools/panoply/\n",
    "# which is a netCDF, HDF and GRIB Data Viewer\n",
    "# developed by NASA's Goddard Institute for Space Studies\n",
    "args = shlex.split('/Applications/Panoply.app/Contents/MacOS/Panoply ' + str_nc_files)\n",
    "subprocess.Popen(args)"
   ]
  },
  {
   "cell_type": "code",
   "execution_count": null,
   "metadata": {},
   "outputs": [],
   "source": [
    "#Finally, let's subset the granule using L2SS\n",
    "#and download only the area of interest.\n",
    "from podaac import l2ss as l2ss\n",
    "l = l2ss.L2SS()\n",
    "granule_id = 'ascat_20180913_134800_metopa_61756_eps_o_coa_2401_ovw.l2.nc'\n",
    "query = {\n",
    "        \"email\": \"your_email@here.com\",\n",
    "        \"query\":\n",
    "        [\n",
    "            {\n",
    "                \"compact\": \"true\",\n",
    "                \"datasetId\": \"PODAAC-ASOP2-12C01\",\n",
    "                \"bbox\": \"-81,28,-67,40\",\n",
    "                \"variables\": [\"lat\", \"lon\", \"time\", \"wind_speed\"],\n",
    "                \"granuleIds\": [\"ascat_20180913_134800_metopa_61756_eps_o_coa_2401_ovw.l2.nc\"]\n",
    "            }\n",
    "        ]\n",
    "    }\n",
    "l.granule_download(query_string=query)\n",
    "ss_granule = os.path.abspath('subsetted-' + granule_id)\n",
    "print(ss_granule)\n",
    "# Finally let's make a call to Panoply to open the subsetted granule.\n",
    "args = shlex.split('/Applications/Panoply.app/Contents/MacOS/Panoply ' + ss_granule)\n",
    "subprocess.Popen(args)"
   ]
  },
  {
   "cell_type": "code",
   "execution_count": null,
   "metadata": {},
   "outputs": [],
   "source": [
    "# A final comment and some food for thought, if you were\n",
    "# to write the above python script from scratch, you would\n",
    "# have to write around 400 or so lines of code.\n",
    "# Less the print statements, we've achieved it above in less\n",
    "# than 30 lines of code!\n",
    "# What is more, the code we have used has been tested by users,\n",
    "# as well as by our rich unit testing suite. Every function\n",
    "# in Podaacpy has an accompanying test!\n",
    "\n",
    "# Please report any issues with the above notebook at \n",
    "# https://github.com/nasa/podaacpy/issues"
   ]
  }
 ],
 "metadata": {
  "kernelspec": {
   "display_name": "Python 3",
   "language": "python",
   "name": "python3"
  },
  "language_info": {
   "codemirror_mode": {
    "name": "ipython",
    "version": 3
   },
   "file_extension": ".py",
   "mimetype": "text/x-python",
   "name": "python",
   "nbconvert_exporter": "python",
   "pygments_lexer": "ipython3",
   "version": "3.7.4"
  }
 },
 "nbformat": 4,
 "nbformat_minor": 2
}
